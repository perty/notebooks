{
 "cells": [
  {
   "cell_type": "markdown",
   "metadata": {},
   "source": [
    "# Bayes' theorem applied to a drug test\n",
    "Drugtest gives a 99% accuracy meaning that in 99% of the cases, the test gives an accurate positive result. Also, it has the same accuracy for negative results. If a person is tested and the result is negative, it is a 99% probability for that person being on drugs.\n",
    "\n",
    "Only 0.3% of the population is actual drug users.\n",
    "\n",
    "Here A is that a person is a drug user while B is that a person is tested positive.\n",
    "\n",
    "The probability for a person being tested positive is probability of correctly finding actual drug users, 99% of the 0.3%, plus the false positives, 1% of the population that is not drug users."
   ]
  },
  {
   "cell_type": "code",
   "execution_count": 119,
   "metadata": {},
   "outputs": [
    {
     "name": "stdout",
     "output_type": "stream",
     "text": [
      "Probability of someone is tested positive, P(B): 1.29%\n"
     ]
    }
   ],
   "source": [
    "accuracy = 99.0\n",
    "users = 0.3\n",
    "\n",
    "def pb(users):\n",
    "    a = accuracy / 100\n",
    "    u = users / 100\n",
    "    p_correct = a * u \n",
    "    not_users = (1 - u) \n",
    "    p_false = (1 - a) * not_users\n",
    "    return (p_correct + p_false) * 100\n",
    "\n",
    "PB = pb(users)\n",
    "print(\"Probability of someone is tested positive, P(B): {:.2f}%\".format(PB))"
   ]
  },
  {
   "cell_type": "markdown",
   "metadata": {},
   "source": [
    "The Bayes' theroem says that P(A|B) = P(A) * P(B|A) / P(B)."
   ]
  },
  {
   "cell_type": "code",
   "execution_count": 120,
   "metadata": {},
   "outputs": [
    {
     "name": "stdout",
     "output_type": "stream",
     "text": [
      "Probability of a person being tested positive (B), is a drug user (A), P(A|B): 22.95%\n"
     ]
    }
   ],
   "source": [
    "PAB = users * accuracy / PB\n",
    "print(\"Probability of a person being tested positive (B), is a drug user (A), P(A|B): {:.2f}%\".format(PAB))"
   ]
  },
  {
   "cell_type": "markdown",
   "metadata": {},
   "source": [
    "## When is the test good?\n",
    "Let's see how large portion of the population has to be drug users before the 99% accuracy actually is useful."
   ]
  },
  {
   "cell_type": "code",
   "execution_count": 123,
   "metadata": {},
   "outputs": [
    {
     "data": {
      "image/png": "[encoded data removed]",
      "text/plain": [
       "<matplotlib.figure.Figure at 0x108bd8240>"
      ]
     },
     "metadata": {},
     "output_type": "display_data"
    },
    {
     "name": "stdout",
     "output_type": "stream",
     "text": [
      "With population of 1% drug users: 50.00%\n",
      "With population of 16% drug users: 94.96%\n"
     ]
    }
   ],
   "source": [
    "import matplotlib.pyplot as plt\n",
    "\n",
    "accuracy = 99.0\n",
    "\n",
    "def pab(users):\n",
    "    PB = pb(users)\n",
    "    return users * accuracy / PB\n",
    "\n",
    "actual_users_range = [ n for n in range(21)]\n",
    "y = [ pab(u) for u in actual_users_range ]\n",
    "plt.plot(actual_users_range, y)\n",
    "\n",
    "axes = plt.axes()\n",
    "axes.set_xticks([n  for n in range(21)])\n",
    "axes.set_yticks([n * 5 for n in range(21)])\n",
    "axes.grid()\n",
    "plt.ylabel(\"Probability given a positive test, it is a drug user, P(A|B) %\")\n",
    "plt.xlabel(\"The amount of actual drug users in the population %\")\n",
    "plt.show()\n",
    "\n",
    "print(\"With population of 1% drug users: {:.2f}%\".format(pab(1)))\n",
    "print(\"With population of 16% drug users: {:.2f}%\".format(pab(16)))"
   ]
  },
  {
   "cell_type": "markdown",
   "metadata": {},
   "source": [
    "It takes 16% of the population to be users for the test to reach 95% probability."
   ]
  },
  {
   "cell_type": "code",
   "execution_count": null,
   "metadata": {},
   "outputs": [],
   "source": []
  }
 ],
 "metadata": {
  "kernelspec": {
   "display_name": "Python 3",
   "language": "python",
   "name": "python3"
  },
  "language_info": {
   "codemirror_mode": {
    "name": "ipython",
    "version": 3
   },
   "file_extension": ".py",
   "mimetype": "text/x-python",
   "name": "python",
   "nbconvert_exporter": "python",
   "pygments_lexer": "ipython3",
   "version": "3.6.2"
  }
 },
 "nbformat": 4,
 "nbformat_minor": 2
}
